{
 "cells": [
  {
   "cell_type": "code",
   "execution_count": null,
   "id": "9cdfeafd",
   "metadata": {
    "ExecuteTime": {
     "end_time": "2024-03-01T12:14:33.213272Z",
     "start_time": "2024-03-01T12:14:33.192790Z"
    }
   },
   "outputs": [],
   "source": [
    "%config IOPub.data_rate_limit=100000000"
   ]
  },
  {
   "cell_type": "code",
   "execution_count": null,
   "id": "00402bf0",
   "metadata": {
    "ExecuteTime": {
     "end_time": "2024-03-01T23:50:25.197302Z",
     "start_time": "2024-03-01T23:50:25.107144Z"
    }
   },
   "outputs": [
    {
     "name": "stdout",
     "output_type": "stream",
     "text": [
      "cannot find .env file\n"
     ]
    }
   ],
   "source": [
    "import time\n",
    "import sys\n",
    "import os\n",
    "\n",
    "%load_ext dotenv\n",
    "%dotenv\n",
    "from dotenv import load_dotenv\n",
    "\n",
    "os.chdir(f\"{os.path.abspath()}\")"
   ]
  },
  {
   "cell_type": "markdown",
   "id": "09356b03",
   "metadata": {},
   "source": [
    "## Hello World"
   ]
  },
  {
   "cell_type": "code",
   "execution_count": 2,
   "id": "1f44e1e8",
   "metadata": {
    "ExecuteTime": {
     "end_time": "2024-03-01T23:51:08.587630Z",
     "start_time": "2024-03-01T23:51:08.574348Z"
    }
   },
   "outputs": [],
   "source": [
    "# como fazer um hello world em python "
   ]
  },
  {
   "cell_type": "code",
   "execution_count": 4,
   "id": "02fbc2a3",
   "metadata": {
    "ExecuteTime": {
     "end_time": "2024-03-01T23:55:20.168433Z",
     "start_time": "2024-03-01T23:55:20.151334Z"
    }
   },
   "outputs": [
    {
     "name": "stdout",
     "output_type": "stream",
     "text": [
      "Ola, mundo\n"
     ]
    }
   ],
   "source": [
    "print(\"Ola, mundo\")"
   ]
  },
  {
   "cell_type": "code",
   "execution_count": 5,
   "id": "97817431",
   "metadata": {
    "ExecuteTime": {
     "end_time": "2024-03-01T23:56:53.110082Z",
     "start_time": "2024-03-01T23:56:53.097529Z"
    }
   },
   "outputs": [],
   "source": [
    "nomebot = \"Siri\""
   ]
  },
  {
   "cell_type": "code",
   "execution_count": 6,
   "id": "76870616",
   "metadata": {
    "ExecuteTime": {
     "end_time": "2024-03-01T23:59:23.829391Z",
     "start_time": "2024-03-01T23:59:23.821393Z"
    }
   },
   "outputs": [
    {
     "name": "stdout",
     "output_type": "stream",
     "text": [
      "Ola, mundo! Oi Thiago tudo bem? meu nome é: Siri\n"
     ]
    }
   ],
   "source": [
    "print(f'Ola, mundo! Oi Thiago tudo bem? meu nome é: {nomebot}')"
   ]
  },
  {
   "cell_type": "code",
   "execution_count": 8,
   "id": "81a9a558",
   "metadata": {
    "ExecuteTime": {
     "end_time": "2024-03-01T23:59:34.955282Z",
     "start_time": "2024-03-01T23:59:34.938283Z"
    }
   },
   "outputs": [
    {
     "name": "stdout",
     "output_type": "stream",
     "text": [
      "Ola, mundo! Oi Thiago tudo bem? meu nome é: Siri\n"
     ]
    }
   ],
   "source": [
    "print('Ola, mundo! Oi Thiago tudo bem? meu nome é: {}'.format(nomebot))"
   ]
  },
  {
   "cell_type": "code",
   "execution_count": null,
   "id": "f873530c",
   "metadata": {},
   "outputs": [],
   "source": []
  },
  {
   "cell_type": "code",
   "execution_count": null,
   "id": "05867e11",
   "metadata": {},
   "outputs": [],
   "source": []
  },
  {
   "cell_type": "markdown",
   "id": "0be27f90",
   "metadata": {},
   "source": [
    "### Tópico 1: Revisão dos conceitos básicos de Python"
   ]
  },
  {
   "cell_type": "code",
   "execution_count": 9,
   "id": "24e022d4",
   "metadata": {
    "ExecuteTime": {
     "end_time": "2024-03-02T00:18:04.397184Z",
     "start_time": "2024-03-02T00:18:04.392184Z"
    }
   },
   "outputs": [],
   "source": [
    "# Exemplo 1: Variáveis e tipos de dados\n",
    "numero = 10\n",
    "texto = \"Olá, mundo!\"\n",
    "booleano = True\n",
    "lista = [1, 2, 3]\n",
    "tupla = (4, 5, 6)\n",
    "dicionario = {'chave': 'valor'}"
   ]
  },
  {
   "cell_type": "code",
   "execution_count": 10,
   "id": "d02f11f6",
   "metadata": {
    "ExecuteTime": {
     "end_time": "2024-03-02T00:31:15.241787Z",
     "start_time": "2024-03-02T00:31:15.236786Z"
    }
   },
   "outputs": [
    {
     "name": "stdout",
     "output_type": "stream",
     "text": [
      "primeiro numero da lista: 1\n"
     ]
    }
   ],
   "source": [
    "print(f\"primeiro numero da lista: {lista[0]}\")"
   ]
  },
  {
   "cell_type": "code",
   "execution_count": 11,
   "id": "702afe42",
   "metadata": {
    "ExecuteTime": {
     "end_time": "2024-03-02T00:32:12.167424Z",
     "start_time": "2024-03-02T00:32:12.160423Z"
    }
   },
   "outputs": [],
   "source": [
    "# Exemplo 2: Operadores\n",
    "soma = 10 + 5\n",
    "subtracao = 10 - 5\n",
    "multiplicacao = 10 * 5\n",
    "divisao = 10 / 5\n",
    "exponenciacao = 10 ** 2\n",
    "resto_divisao = 10 % 3"
   ]
  },
  {
   "cell_type": "code",
   "execution_count": 16,
   "id": "c1d69f9d",
   "metadata": {
    "ExecuteTime": {
     "end_time": "2024-03-02T00:41:49.444020Z",
     "start_time": "2024-03-02T00:41:49.440021Z"
    }
   },
   "outputs": [],
   "source": [
    "numero = 10/3.5"
   ]
  },
  {
   "cell_type": "code",
   "execution_count": 20,
   "id": "4923c4d7",
   "metadata": {
    "ExecuteTime": {
     "end_time": "2024-03-02T00:42:22.210184Z",
     "start_time": "2024-03-02T00:42:22.199185Z"
    }
   },
   "outputs": [
    {
     "name": "stdout",
     "output_type": "stream",
     "text": [
      "o numero que responde 10/5 é: 2.86\n"
     ]
    }
   ],
   "source": [
    "print(f'o numero que responde 10/5 é: {numero:.2f}')"
   ]
  },
  {
   "cell_type": "markdown",
   "id": "88b548ca",
   "metadata": {},
   "source": [
    "### Encadeamento de retorno"
   ]
  },
  {
   "cell_type": "code",
   "execution_count": 27,
   "id": "ee2e11b8",
   "metadata": {
    "ExecuteTime": {
     "end_time": "2024-03-02T00:49:13.872605Z",
     "start_time": "2024-03-02T00:49:13.863093Z"
    }
   },
   "outputs": [],
   "source": [
    "a, b, c = 1 , 2 , 3"
   ]
  },
  {
   "cell_type": "code",
   "execution_count": 28,
   "id": "6c802194",
   "metadata": {
    "ExecuteTime": {
     "end_time": "2024-03-02T00:49:18.266584Z",
     "start_time": "2024-03-02T00:49:18.251070Z"
    }
   },
   "outputs": [
    {
     "data": {
      "text/plain": [
       "1"
      ]
     },
     "execution_count": 28,
     "metadata": {},
     "output_type": "execute_result"
    }
   ],
   "source": [
    "a"
   ]
  },
  {
   "cell_type": "markdown",
   "id": "7c4337a8",
   "metadata": {},
   "source": [
    "### Documentacao da funcao"
   ]
  },
  {
   "cell_type": "code",
   "execution_count": 21,
   "id": "97fa59ca",
   "metadata": {
    "ExecuteTime": {
     "end_time": "2024-03-02T00:44:40.725430Z",
     "start_time": "2024-03-02T00:44:40.711915Z"
    }
   },
   "outputs": [],
   "source": [
    "print?"
   ]
  },
  {
   "cell_type": "code",
   "execution_count": 24,
   "id": "a4666683",
   "metadata": {
    "ExecuteTime": {
     "end_time": "2024-03-02T00:47:02.470362Z",
     "start_time": "2024-03-02T00:47:02.461846Z"
    }
   },
   "outputs": [
    {
     "name": "stdout",
     "output_type": "stream",
     "text": [
      "['__call__', '__class__', '__delattr__', '__dir__', '__doc__', '__eq__', '__format__', '__ge__', '__getattribute__', '__gt__', '__hash__', '__init__', '__init_subclass__', '__le__', '__lt__', '__module__', '__name__', '__ne__', '__new__', '__qualname__', '__reduce__', '__reduce_ex__', '__repr__', '__self__', '__setattr__', '__sizeof__', '__str__', '__subclasshook__', '__text_signature__']\n"
     ]
    }
   ],
   "source": [
    "print(dir(print))"
   ]
  },
  {
   "cell_type": "code",
   "execution_count": null,
   "id": "b30c8f68",
   "metadata": {},
   "outputs": [],
   "source": []
  },
  {
   "cell_type": "code",
   "execution_count": null,
   "id": "31d8bc7f",
   "metadata": {},
   "outputs": [],
   "source": []
  },
  {
   "cell_type": "markdown",
   "id": "7a86cc5f",
   "metadata": {},
   "source": [
    "### Funcoes Nativas"
   ]
  },
  {
   "cell_type": "markdown",
   "id": "dd5e4bc7",
   "metadata": {},
   "source": [
    "#### type()"
   ]
  },
  {
   "cell_type": "code",
   "execution_count": 26,
   "id": "612103df",
   "metadata": {
    "ExecuteTime": {
     "end_time": "2024-03-02T00:47:47.516058Z",
     "start_time": "2024-03-02T00:47:47.507541Z"
    }
   },
   "outputs": [
    {
     "data": {
      "text/plain": [
       "(float, 2.857142857142857)"
      ]
     },
     "execution_count": 26,
     "metadata": {},
     "output_type": "execute_result"
    }
   ],
   "source": [
    "type(numero), numero"
   ]
  },
  {
   "cell_type": "code",
   "execution_count": 31,
   "id": "aa257f6e",
   "metadata": {
    "ExecuteTime": {
     "end_time": "2024-03-02T00:54:27.993819Z",
     "start_time": "2024-03-02T00:54:27.987288Z"
    }
   },
   "outputs": [
    {
     "data": {
      "text/plain": [
       "tuple"
      ]
     },
     "execution_count": 31,
     "metadata": {},
     "output_type": "execute_result"
    }
   ],
   "source": [
    "type((1005, \"rua dos anzois\", \"bloco d\", \"Thiago\", \"60000000\"))"
   ]
  },
  {
   "cell_type": "code",
   "execution_count": 32,
   "id": "912f05fa",
   "metadata": {
    "ExecuteTime": {
     "end_time": "2024-03-02T00:54:40.679544Z",
     "start_time": "2024-03-02T00:54:40.632031Z"
    }
   },
   "outputs": [],
   "source": [
    "type?"
   ]
  },
  {
   "cell_type": "markdown",
   "id": "428352df",
   "metadata": {},
   "source": [
    "#### len()"
   ]
  },
  {
   "cell_type": "code",
   "execution_count": 34,
   "id": "cc8776dd",
   "metadata": {
    "ExecuteTime": {
     "end_time": "2024-03-02T00:55:40.923019Z",
     "start_time": "2024-03-02T00:55:40.909972Z"
    }
   },
   "outputs": [
    {
     "data": {
      "text/plain": [
       "(3, [1, 2, 3])"
      ]
     },
     "execution_count": 34,
     "metadata": {},
     "output_type": "execute_result"
    }
   ],
   "source": [
    "len(lista), lista"
   ]
  },
  {
   "cell_type": "code",
   "execution_count": 35,
   "id": "09208553",
   "metadata": {
    "ExecuteTime": {
     "end_time": "2024-03-02T00:56:21.626285Z",
     "start_time": "2024-03-02T00:56:21.612258Z"
    }
   },
   "outputs": [],
   "source": [
    "len?"
   ]
  },
  {
   "cell_type": "code",
   "execution_count": null,
   "id": "0f2a5200",
   "metadata": {},
   "outputs": [],
   "source": [
    "import time"
   ]
  },
  {
   "cell_type": "markdown",
   "id": "3228a9f5",
   "metadata": {},
   "source": [
    "#### input()"
   ]
  },
  {
   "cell_type": "code",
   "execution_count": 36,
   "id": "f4cb19fe",
   "metadata": {
    "ExecuteTime": {
     "end_time": "2024-03-02T00:57:00.329213Z",
     "start_time": "2024-03-02T00:56:58.040791Z"
    }
   },
   "outputs": [
    {
     "name": "stdout",
     "output_type": "stream",
     "text": [
      "Digite seu nome: thiago\n",
      "Nome: thiago\n"
     ]
    }
   ],
   "source": [
    "nome = input(\"Digite seu nome: \")\n",
    "print(f\"Nome: {nome}\")"
   ]
  },
  {
   "cell_type": "code",
   "execution_count": 45,
   "id": "f5645cce",
   "metadata": {
    "ExecuteTime": {
     "end_time": "2024-03-02T11:18:43.830764Z",
     "start_time": "2024-03-02T11:18:43.803767Z"
    }
   },
   "outputs": [],
   "source": [
    "import objgraph"
   ]
  },
  {
   "cell_type": "code",
   "execution_count": 46,
   "id": "be7c9846",
   "metadata": {
    "ExecuteTime": {
     "end_time": "2024-03-02T11:19:12.785116Z",
     "start_time": "2024-03-02T11:19:12.670116Z"
    }
   },
   "outputs": [
    {
     "name": "stdout",
     "output_type": "stream",
     "text": [
      "function                   18100\n",
      "dict                       13331\n",
      "tuple                      10550\n",
      "weakref                    5332\n",
      "list                       4056\n",
      "builtin_function_or_method 3356\n",
      "cell                       2992\n",
      "type                       2415\n",
      "getset_descriptor          2332\n",
      "wrapper_descriptor         2106\n"
     ]
    }
   ],
   "source": [
    "objgraph.show_most_common_types()"
   ]
  },
  {
   "cell_type": "markdown",
   "id": "ae7a1c06",
   "metadata": {},
   "source": [
    "####  print()"
   ]
  },
  {
   "cell_type": "code",
   "execution_count": 48,
   "id": "7ac809a5",
   "metadata": {
    "ExecuteTime": {
     "end_time": "2024-03-02T13:07:03.788528Z",
     "start_time": "2024-03-02T13:07:03.771528Z"
    }
   },
   "outputs": [],
   "source": [
    "print?"
   ]
  },
  {
   "cell_type": "code",
   "execution_count": 49,
   "id": "c3aa7eb4",
   "metadata": {
    "ExecuteTime": {
     "end_time": "2024-03-02T13:07:19.061939Z",
     "start_time": "2024-03-02T13:07:19.048940Z"
    }
   },
   "outputs": [
    {
     "name": "stdout",
     "output_type": "stream",
     "text": [
      "thiago bluhm,professor\n"
     ]
    }
   ],
   "source": [
    "print(\"thiago bluhm\", \"professor\", sep=\",\")"
   ]
  },
  {
   "cell_type": "code",
   "execution_count": 50,
   "id": "f21b535a",
   "metadata": {
    "ExecuteTime": {
     "end_time": "2024-03-02T13:08:08.598159Z",
     "start_time": "2024-03-02T13:08:08.595157Z"
    }
   },
   "outputs": [],
   "source": [
    "num1 = [0,1,2,3,4]\n",
    "num2 = [1,2,3,4,5]"
   ]
  },
  {
   "cell_type": "code",
   "execution_count": null,
   "id": "856e56fc",
   "metadata": {},
   "outputs": [],
   "source": [
    "# multiplicar as listas... e printar os resultados"
   ]
  },
  {
   "cell_type": "code",
   "execution_count": 71,
   "id": "7b969917",
   "metadata": {
    "ExecuteTime": {
     "end_time": "2024-03-02T13:22:13.045122Z",
     "start_time": "2024-03-02T13:22:13.026118Z"
    }
   },
   "outputs": [
    {
     "data": {
      "text/plain": [
       "0.0"
      ]
     },
     "execution_count": 71,
     "metadata": {},
     "output_type": "execute_result"
    }
   ],
   "source": [
    "inicio = time.time()\n",
    "list(map(lambda x,y: x*y, num1, num2))\n",
    "fim = time.time()\n",
    "\n",
    "tempo = fim - inicio\n",
    "tempo"
   ]
  },
  {
   "cell_type": "code",
   "execution_count": 72,
   "id": "e38e1ea0",
   "metadata": {
    "ExecuteTime": {
     "end_time": "2024-03-02T13:22:18.726800Z",
     "start_time": "2024-03-02T13:22:18.715800Z"
    }
   },
   "outputs": [
    {
     "data": {
      "text/plain": [
       "0.0"
      ]
     },
     "execution_count": 72,
     "metadata": {},
     "output_type": "execute_result"
    }
   ],
   "source": [
    "inicio = time.time()\n",
    "[num1[x] * num2[x] for x in range(len(num1))]\n",
    "fim =  time.time()\n",
    "tempo = fim - inicio\n",
    "tempo"
   ]
  },
  {
   "cell_type": "code",
   "execution_count": 73,
   "id": "50eb33fc",
   "metadata": {
    "ExecuteTime": {
     "end_time": "2024-03-02T13:22:23.077136Z",
     "start_time": "2024-03-02T13:22:23.058136Z"
    }
   },
   "outputs": [
    {
     "data": {
      "text/plain": [
       "0.0"
      ]
     },
     "execution_count": 73,
     "metadata": {},
     "output_type": "execute_result"
    }
   ],
   "source": [
    "inicio = time.time()\n",
    "lista = []\n",
    "for i in num1:\n",
    "    for j in num2:\n",
    "        lista.append(i*j)\n",
    "\n",
    "fim =  time.time()\n",
    "tempo = fim - inicio\n",
    "tempo"
   ]
  },
  {
   "cell_type": "code",
   "execution_count": null,
   "id": "0b1aa3b9",
   "metadata": {},
   "outputs": [],
   "source": []
  },
  {
   "cell_type": "code",
   "execution_count": 107,
   "id": "8736aba5",
   "metadata": {
    "ExecuteTime": {
     "end_time": "2024-03-02T13:52:10.461114Z",
     "start_time": "2024-03-02T13:52:10.446113Z"
    }
   },
   "outputs": [
    {
     "data": {
      "text/plain": [
       "str"
      ]
     },
     "execution_count": 107,
     "metadata": {},
     "output_type": "execute_result"
    }
   ],
   "source": [
    "type(nome)"
   ]
  },
  {
   "cell_type": "code",
   "execution_count": 113,
   "id": "0c2a5171",
   "metadata": {
    "ExecuteTime": {
     "end_time": "2024-03-02T13:54:11.218493Z",
     "start_time": "2024-03-02T13:54:11.205493Z"
    }
   },
   "outputs": [
    {
     "data": {
      "text/plain": [
       "'Damasceno'"
      ]
     },
     "execution_count": 113,
     "metadata": {},
     "output_type": "execute_result"
    }
   ],
   "source": [
    "nome[7:16]"
   ]
  },
  {
   "cell_type": "code",
   "execution_count": 120,
   "id": "0eb63154",
   "metadata": {
    "ExecuteTime": {
     "end_time": "2024-03-02T14:04:49.570183Z",
     "start_time": "2024-03-02T14:04:49.555182Z"
    }
   },
   "outputs": [],
   "source": [
    "nome = \"Thiago,Damasceno,Faria,Bluhm\""
   ]
  },
  {
   "cell_type": "code",
   "execution_count": 121,
   "id": "b43d46b8",
   "metadata": {
    "ExecuteTime": {
     "end_time": "2024-03-02T14:04:53.006141Z",
     "start_time": "2024-03-02T14:04:52.997642Z"
    }
   },
   "outputs": [],
   "source": [
    "nome_ = nome.split(\",\")"
   ]
  },
  {
   "cell_type": "code",
   "execution_count": 122,
   "id": "5fec6c1f",
   "metadata": {
    "ExecuteTime": {
     "end_time": "2024-03-02T14:04:55.576012Z",
     "start_time": "2024-03-02T14:04:55.562009Z"
    }
   },
   "outputs": [
    {
     "data": {
      "text/plain": [
       "['Thiago', 'Damasceno', 'Faria', 'Bluhm']"
      ]
     },
     "execution_count": 122,
     "metadata": {},
     "output_type": "execute_result"
    }
   ],
   "source": [
    "nome_"
   ]
  },
  {
   "cell_type": "code",
   "execution_count": 119,
   "id": "3bc472d4",
   "metadata": {
    "ExecuteTime": {
     "end_time": "2024-03-02T14:04:11.117625Z",
     "start_time": "2024-03-02T14:04:11.102624Z"
    }
   },
   "outputs": [
    {
     "data": {
      "text/plain": [
       "'Damasceno'"
      ]
     },
     "execution_count": 119,
     "metadata": {},
     "output_type": "execute_result"
    }
   ],
   "source": [
    "nome_[1]"
   ]
  },
  {
   "cell_type": "code",
   "execution_count": 1,
   "id": "783ce64b",
   "metadata": {},
   "outputs": [],
   "source": [
    "# PRINT()"
   ]
  },
  {
   "cell_type": "code",
   "execution_count": null,
   "id": "ce5104b7",
   "metadata": {
    "ExecuteTime": {
     "end_time": "2024-03-01T14:34:24.231823Z",
     "start_time": "2024-03-01T14:34:24.217825Z"
    }
   },
   "outputs": [],
   "source": [
    "print?"
   ]
  },
  {
   "cell_type": "code",
   "execution_count": null,
   "id": "c6a35613",
   "metadata": {
    "ExecuteTime": {
     "end_time": "2024-03-01T14:40:32.753956Z",
     "start_time": "2024-03-01T14:40:32.743956Z"
    }
   },
   "outputs": [],
   "source": [
    "print(\"thiago\",\"damasceno\", \"bluhm\", sep=\" - \", end=\" |\")"
   ]
  },
  {
   "cell_type": "code",
   "execution_count": null,
   "id": "cd375b90",
   "metadata": {
    "ExecuteTime": {
     "end_time": "2024-03-01T14:42:48.206063Z",
     "start_time": "2024-03-01T14:42:48.192956Z"
    }
   },
   "outputs": [],
   "source": [
    "lista = [0,1,2,3]\n",
    "for l in lista:\n",
    "    print(l, l, sep=\",\")"
   ]
  },
  {
   "cell_type": "markdown",
   "id": "af8b3629",
   "metadata": {},
   "source": [
    "#### range()"
   ]
  },
  {
   "cell_type": "code",
   "execution_count": 78,
   "id": "b688c9b0",
   "metadata": {
    "ExecuteTime": {
     "end_time": "2024-03-02T13:24:25.410762Z",
     "start_time": "2024-03-02T13:24:25.392762Z"
    }
   },
   "outputs": [
    {
     "data": {
      "text/plain": [
       "range(1, 10, 2)"
      ]
     },
     "execution_count": 78,
     "metadata": {},
     "output_type": "execute_result"
    }
   ],
   "source": [
    "#     inicio, ate aonde, de quanto em quanto\n",
    "range(1, 10, 2)"
   ]
  },
  {
   "cell_type": "code",
   "execution_count": 80,
   "id": "87cab9b0",
   "metadata": {
    "ExecuteTime": {
     "end_time": "2024-03-02T13:25:26.604937Z",
     "start_time": "2024-03-02T13:25:26.597937Z"
    }
   },
   "outputs": [
    {
     "data": {
      "text/plain": [
       "range(0, 5)"
      ]
     },
     "execution_count": 80,
     "metadata": {},
     "output_type": "execute_result"
    }
   ],
   "source": [
    "range(len(num1))"
   ]
  },
  {
   "cell_type": "code",
   "execution_count": 83,
   "id": "d5ea20c6",
   "metadata": {
    "ExecuteTime": {
     "end_time": "2024-03-02T13:26:39.123464Z",
     "start_time": "2024-03-02T13:26:39.111268Z"
    }
   },
   "outputs": [],
   "source": [
    "import numpy as np"
   ]
  },
  {
   "cell_type": "code",
   "execution_count": 93,
   "id": "ff72f60c",
   "metadata": {
    "ExecuteTime": {
     "end_time": "2024-03-02T13:27:52.339541Z",
     "start_time": "2024-03-02T13:27:52.325541Z"
    }
   },
   "outputs": [],
   "source": [
    "lista1 = np.arange(0, 1000000)\n",
    "lista2 = np"
   ]
  },
  {
   "cell_type": "code",
   "execution_count": 97,
   "id": "6d97d1b7",
   "metadata": {
    "ExecuteTime": {
     "end_time": "2024-03-02T13:31:04.465990Z",
     "start_time": "2024-03-02T13:31:04.453992Z"
    }
   },
   "outputs": [],
   "source": [
    "num1_ = [12,25,19,32,59,7]"
   ]
  },
  {
   "cell_type": "code",
   "execution_count": 105,
   "id": "32997ac5",
   "metadata": {
    "ExecuteTime": {
     "end_time": "2024-03-02T13:35:22.744259Z",
     "start_time": "2024-03-02T13:35:22.733262Z"
    }
   },
   "outputs": [
    {
     "data": {
      "text/plain": [
       "[25, 19, 32]"
      ]
     },
     "execution_count": 105,
     "metadata": {},
     "output_type": "execute_result"
    }
   ],
   "source": [
    "num1_[1:4]"
   ]
  },
  {
   "cell_type": "code",
   "execution_count": 100,
   "id": "dcf6add2",
   "metadata": {
    "ExecuteTime": {
     "end_time": "2024-03-02T13:31:55.243042Z",
     "start_time": "2024-03-02T13:31:55.237936Z"
    }
   },
   "outputs": [
    {
     "name": "stdout",
     "output_type": "stream",
     "text": [
      "12\n",
      "25\n",
      "19\n",
      "32\n",
      "59\n",
      "7\n"
     ]
    }
   ],
   "source": [
    "for i in range(len(num1_)):\n",
    "    print(num1_[i])"
   ]
  },
  {
   "cell_type": "code",
   "execution_count": null,
   "id": "ed3a1270",
   "metadata": {},
   "outputs": [],
   "source": []
  },
  {
   "cell_type": "code",
   "execution_count": null,
   "id": "93bfcda5",
   "metadata": {},
   "outputs": [],
   "source": []
  },
  {
   "cell_type": "markdown",
   "id": "1b8a6c36",
   "metadata": {},
   "source": [
    "#### sum()"
   ]
  },
  {
   "cell_type": "code",
   "execution_count": null,
   "id": "8db1915b",
   "metadata": {
    "ExecuteTime": {
     "end_time": "2024-03-01T19:13:36.070961Z",
     "start_time": "2024-03-01T19:13:36.062961Z"
    }
   },
   "outputs": [],
   "source": [
    "sum([1,2])"
   ]
  },
  {
   "cell_type": "markdown",
   "id": "f0bcfb11",
   "metadata": {},
   "source": [
    "#### lower() and upper()"
   ]
  },
  {
   "cell_type": "code",
   "execution_count": 123,
   "id": "5b0e099f",
   "metadata": {
    "ExecuteTime": {
     "end_time": "2024-03-02T14:06:37.320257Z",
     "start_time": "2024-03-02T14:06:37.309258Z"
    }
   },
   "outputs": [],
   "source": [
    "nome1 = \"Thiago \"\n",
    "nome2 = \"THIAGO\"\n",
    "nome3 = \"thiago\""
   ]
  },
  {
   "cell_type": "code",
   "execution_count": 124,
   "id": "a987cdec",
   "metadata": {
    "ExecuteTime": {
     "end_time": "2024-03-02T14:07:16.717908Z",
     "start_time": "2024-03-02T14:07:16.705908Z"
    }
   },
   "outputs": [
    {
     "data": {
      "text/plain": [
       "'thiago'"
      ]
     },
     "execution_count": 124,
     "metadata": {},
     "output_type": "execute_result"
    }
   ],
   "source": [
    "nome1.lower()"
   ]
  },
  {
   "cell_type": "code",
   "execution_count": 126,
   "id": "d91bffc1",
   "metadata": {
    "ExecuteTime": {
     "end_time": "2024-03-02T14:10:05.696532Z",
     "start_time": "2024-03-02T14:10:05.683533Z"
    }
   },
   "outputs": [
    {
     "data": {
      "text/plain": [
       "'THIAGO'"
      ]
     },
     "execution_count": 126,
     "metadata": {},
     "output_type": "execute_result"
    }
   ],
   "source": [
    "\"Thiago\".upper()"
   ]
  },
  {
   "cell_type": "markdown",
   "id": "30e0bc2c",
   "metadata": {},
   "source": [
    "#### Indexacao"
   ]
  },
  {
   "cell_type": "code",
   "execution_count": null,
   "id": "1b312445",
   "metadata": {
    "ExecuteTime": {
     "end_time": "2024-03-01T19:34:25.068774Z",
     "start_time": "2024-03-01T19:34:25.053774Z"
    }
   },
   "outputs": [],
   "source": [
    "p1 = \"Hello people, that's all right?\"[:5]\n",
    "p1"
   ]
  },
  {
   "cell_type": "code",
   "execution_count": null,
   "id": "2892e569",
   "metadata": {
    "ExecuteTime": {
     "end_time": "2024-03-01T19:35:04.581924Z",
     "start_time": "2024-03-01T19:35:04.565924Z"
    }
   },
   "outputs": [],
   "source": [
    "p2 = p1[0:3]\n",
    "p2"
   ]
  },
  {
   "cell_type": "code",
   "execution_count": null,
   "id": "29bd129e",
   "metadata": {
    "ExecuteTime": {
     "end_time": "2024-03-01T19:35:05.383100Z",
     "start_time": "2024-03-01T19:35:05.372580Z"
    }
   },
   "outputs": [],
   "source": [
    "p3 = p2[:1]\n",
    "p3"
   ]
  },
  {
   "cell_type": "code",
   "execution_count": null,
   "id": "deb0a47f",
   "metadata": {
    "ExecuteTime": {
     "end_time": "2024-03-01T19:35:58.680015Z",
     "start_time": "2024-03-01T19:35:58.676015Z"
    }
   },
   "outputs": [],
   "source": [
    "# Exercicios: pegar a frase acima e conseguir retirar a ultima palavra, a palavra do meio e a depois dela."
   ]
  },
  {
   "cell_type": "markdown",
   "id": "c33428e7",
   "metadata": {},
   "source": [
    "#### strip()"
   ]
  },
  {
   "cell_type": "code",
   "execution_count": 127,
   "id": "4e221ad9",
   "metadata": {
    "ExecuteTime": {
     "end_time": "2024-03-02T14:10:31.744159Z",
     "start_time": "2024-03-02T14:10:31.737162Z"
    }
   },
   "outputs": [
    {
     "data": {
      "text/plain": [
       "'qualquer coisa aqui'"
      ]
     },
     "execution_count": 127,
     "metadata": {},
     "output_type": "execute_result"
    }
   ],
   "source": [
    "\" qualquer coisa aqui \".strip()"
   ]
  },
  {
   "cell_type": "code",
   "execution_count": 128,
   "id": "7f13d031",
   "metadata": {
    "ExecuteTime": {
     "end_time": "2024-03-02T14:11:01.269539Z",
     "start_time": "2024-03-02T14:11:01.258589Z"
    }
   },
   "outputs": [
    {
     "data": {
      "text/plain": [
       "'qualquer coisa aqui'"
      ]
     },
     "execution_count": 128,
     "metadata": {},
     "output_type": "execute_result"
    }
   ],
   "source": [
    "\" qualquer coisa aqui\".lstrip()"
   ]
  },
  {
   "cell_type": "code",
   "execution_count": 129,
   "id": "3a04a828",
   "metadata": {
    "ExecuteTime": {
     "end_time": "2024-03-02T14:11:19.162877Z",
     "start_time": "2024-03-02T14:11:19.144876Z"
    }
   },
   "outputs": [
    {
     "data": {
      "text/plain": [
       "'qualquer coisa aqui'"
      ]
     },
     "execution_count": 129,
     "metadata": {},
     "output_type": "execute_result"
    }
   ],
   "source": [
    "\"qualquer coisa aqui \".rstrip()"
   ]
  },
  {
   "cell_type": "code",
   "execution_count": 130,
   "id": "4ac8d68c",
   "metadata": {
    "ExecuteTime": {
     "end_time": "2024-03-02T14:11:56.278426Z",
     "start_time": "2024-03-02T14:11:56.270427Z"
    }
   },
   "outputs": [],
   "source": [
    "lista = [\" thiago\", \" thiago \", \"thiago \"]"
   ]
  },
  {
   "cell_type": "markdown",
   "id": "f4abb3e7",
   "metadata": {},
   "source": [
    "#### split()"
   ]
  },
  {
   "cell_type": "code",
   "execution_count": null,
   "id": "02950f67",
   "metadata": {
    "ExecuteTime": {
     "end_time": "2024-03-01T19:41:03.555615Z",
     "start_time": "2024-03-01T19:41:03.548617Z"
    }
   },
   "outputs": [],
   "source": [
    "\"qualquer coisa aqui tambem\".split(\" \")"
   ]
  },
  {
   "cell_type": "markdown",
   "id": "7fc75cdf",
   "metadata": {},
   "source": [
    "#### replace()"
   ]
  },
  {
   "cell_type": "code",
   "execution_count": 159,
   "id": "2f3ee3c0",
   "metadata": {
    "ExecuteTime": {
     "end_time": "2024-03-02T14:32:16.345321Z",
     "start_time": "2024-03-02T14:32:16.339319Z"
    }
   },
   "outputs": [
    {
     "data": {
      "text/plain": [
       "'qualquer;coisa;aqui;tambem'"
      ]
     },
     "execution_count": 159,
     "metadata": {},
     "output_type": "execute_result"
    }
   ],
   "source": [
    "\"qualquer coisa aqui tambem\".replace(\" \", \";\")"
   ]
  },
  {
   "cell_type": "code",
   "execution_count": 160,
   "id": "915dbc80",
   "metadata": {
    "ExecuteTime": {
     "end_time": "2024-03-02T14:33:59.555980Z",
     "start_time": "2024-03-02T14:33:59.547981Z"
    }
   },
   "outputs": [],
   "source": [
    "# NOME, ENDERECO , CEP , BAIRRO, CIDADE , ESTADO"
   ]
  },
  {
   "cell_type": "markdown",
   "id": "349cb2df",
   "metadata": {},
   "source": [
    "### Biblioteca RE (REGEX)"
   ]
  },
  {
   "cell_type": "code",
   "execution_count": 276,
   "id": "18c5bf3e",
   "metadata": {
    "ExecuteTime": {
     "end_time": "2024-03-02T20:50:37.609101Z",
     "start_time": "2024-03-02T20:50:37.592097Z"
    }
   },
   "outputs": [
    {
     "data": {
      "text/plain": [
       "<re.Match object; span=(0, 1), match='t'>"
      ]
     },
     "execution_count": 276,
     "metadata": {},
     "output_type": "execute_result"
    }
   ],
   "source": [
    "import re\n",
    "re.search(\"\\w\", nome)"
   ]
  },
  {
   "cell_type": "markdown",
   "id": "cff692cf",
   "metadata": {},
   "source": [
    "### Listas"
   ]
  },
  {
   "cell_type": "code",
   "execution_count": 163,
   "id": "78ebe493",
   "metadata": {
    "ExecuteTime": {
     "end_time": "2024-03-02T14:53:08.775350Z",
     "start_time": "2024-03-02T14:53:08.765352Z"
    }
   },
   "outputs": [],
   "source": [
    "a = b = 1"
   ]
  },
  {
   "cell_type": "code",
   "execution_count": 164,
   "id": "098acc35",
   "metadata": {
    "ExecuteTime": {
     "end_time": "2024-03-02T14:53:11.405457Z",
     "start_time": "2024-03-02T14:53:11.396460Z"
    }
   },
   "outputs": [
    {
     "data": {
      "text/plain": [
       "1"
      ]
     },
     "execution_count": 164,
     "metadata": {},
     "output_type": "execute_result"
    }
   ],
   "source": [
    "a"
   ]
  },
  {
   "cell_type": "code",
   "execution_count": null,
   "id": "751fbb7f",
   "metadata": {
    "ExecuteTime": {
     "end_time": "2024-03-01T19:42:22.468660Z",
     "start_time": "2024-03-01T19:42:22.455660Z"
    }
   },
   "outputs": [],
   "source": [
    "numeros = [0,1,2,3,4]"
   ]
  },
  {
   "cell_type": "code",
   "execution_count": null,
   "id": "24ddb6a9",
   "metadata": {
    "ExecuteTime": {
     "end_time": "2024-03-01T19:42:27.650842Z",
     "start_time": "2024-03-01T19:42:27.631844Z"
    }
   },
   "outputs": [],
   "source": [
    "numeros.pop(1)"
   ]
  },
  {
   "cell_type": "code",
   "execution_count": null,
   "id": "205bb3bc",
   "metadata": {
    "ExecuteTime": {
     "end_time": "2024-03-01T19:42:49.249092Z",
     "start_time": "2024-03-01T19:42:49.231092Z"
    }
   },
   "outputs": [],
   "source": [
    "numeros.insert(1, 1)"
   ]
  },
  {
   "cell_type": "code",
   "execution_count": null,
   "id": "133b4746",
   "metadata": {
    "ExecuteTime": {
     "end_time": "2024-03-01T19:42:54.984991Z",
     "start_time": "2024-03-01T19:42:54.968456Z"
    }
   },
   "outputs": [],
   "source": [
    "numeros"
   ]
  },
  {
   "cell_type": "code",
   "execution_count": null,
   "id": "cbac8058",
   "metadata": {
    "ExecuteTime": {
     "end_time": "2024-03-01T19:43:10.483392Z",
     "start_time": "2024-03-01T19:43:10.471392Z"
    }
   },
   "outputs": [],
   "source": [
    "numeros.append([1,2])"
   ]
  },
  {
   "cell_type": "code",
   "execution_count": null,
   "id": "c2eed61a",
   "metadata": {
    "ExecuteTime": {
     "end_time": "2024-03-01T19:43:14.390683Z",
     "start_time": "2024-03-01T19:43:14.384683Z"
    }
   },
   "outputs": [],
   "source": [
    "numeros"
   ]
  },
  {
   "cell_type": "code",
   "execution_count": null,
   "id": "251d4e7b",
   "metadata": {
    "ExecuteTime": {
     "end_time": "2024-03-01T19:43:28.306321Z",
     "start_time": "2024-03-01T19:43:28.291322Z"
    }
   },
   "outputs": [],
   "source": [
    "numeros = [0,1,2,3,4]"
   ]
  },
  {
   "cell_type": "code",
   "execution_count": null,
   "id": "a4d5a4d4",
   "metadata": {
    "ExecuteTime": {
     "end_time": "2024-03-01T19:43:46.530208Z",
     "start_time": "2024-03-01T19:43:46.516204Z"
    }
   },
   "outputs": [],
   "source": [
    "numeros.extend([2,3,4])"
   ]
  },
  {
   "cell_type": "code",
   "execution_count": null,
   "id": "3f8b3fe9",
   "metadata": {
    "ExecuteTime": {
     "end_time": "2024-03-01T19:43:50.107452Z",
     "start_time": "2024-03-01T19:43:50.093451Z"
    }
   },
   "outputs": [],
   "source": [
    "numeros"
   ]
  },
  {
   "cell_type": "code",
   "execution_count": null,
   "id": "554d9397",
   "metadata": {
    "ExecuteTime": {
     "end_time": "2024-03-01T19:45:06.597368Z",
     "start_time": "2024-03-01T19:45:06.592369Z"
    }
   },
   "outputs": [],
   "source": [
    "numeros.append([9,18])\n",
    "numeros.append([10,13])\n",
    "numeros.append([12,15])\n",
    "numeros.append([11,17])"
   ]
  },
  {
   "cell_type": "code",
   "execution_count": null,
   "id": "ae9bf684",
   "metadata": {
    "ExecuteTime": {
     "end_time": "2024-03-01T19:45:09.681215Z",
     "start_time": "2024-03-01T19:45:09.675215Z"
    }
   },
   "outputs": [],
   "source": [
    "numeros"
   ]
  },
  {
   "cell_type": "code",
   "execution_count": null,
   "id": "349d0189",
   "metadata": {
    "ExecuteTime": {
     "end_time": "2024-03-01T19:45:30.592885Z",
     "start_time": "2024-03-01T19:45:30.577879Z"
    }
   },
   "outputs": [],
   "source": [
    "numeros.pop(8)"
   ]
  },
  {
   "cell_type": "code",
   "execution_count": null,
   "id": "105ae75d",
   "metadata": {
    "ExecuteTime": {
     "end_time": "2024-03-01T19:45:35.720595Z",
     "start_time": "2024-03-01T19:45:35.708591Z"
    }
   },
   "outputs": [],
   "source": [
    "numeros"
   ]
  },
  {
   "cell_type": "code",
   "execution_count": null,
   "id": "0751e357",
   "metadata": {
    "ExecuteTime": {
     "end_time": "2024-03-01T19:46:05.036452Z",
     "start_time": "2024-03-01T19:46:05.026453Z"
    }
   },
   "outputs": [],
   "source": [
    "numeros.insert(8, [10,12])"
   ]
  },
  {
   "cell_type": "code",
   "execution_count": null,
   "id": "35f7f5a6",
   "metadata": {
    "ExecuteTime": {
     "end_time": "2024-03-01T19:46:09.768318Z",
     "start_time": "2024-03-01T19:46:09.750320Z"
    }
   },
   "outputs": [],
   "source": [
    "numeros"
   ]
  },
  {
   "cell_type": "code",
   "execution_count": null,
   "id": "488efa24",
   "metadata": {},
   "outputs": [],
   "source": []
  },
  {
   "cell_type": "code",
   "execution_count": null,
   "id": "2dacdda5",
   "metadata": {},
   "outputs": [],
   "source": []
  },
  {
   "cell_type": "markdown",
   "id": "92a00e27",
   "metadata": {},
   "source": [
    "### IF condicional"
   ]
  },
  {
   "cell_type": "code",
   "execution_count": null,
   "id": "e31a5903",
   "metadata": {
    "ExecuteTime": {
     "end_time": "2024-03-01T14:12:53.617100Z",
     "start_time": "2024-03-01T14:12:53.611518Z"
    }
   },
   "outputs": [],
   "source": [
    "a = 1\n",
    "b = 2\n",
    "c = 3"
   ]
  },
  {
   "cell_type": "code",
   "execution_count": null,
   "id": "9e462334",
   "metadata": {
    "ExecuteTime": {
     "end_time": "2024-03-01T14:12:53.962629Z",
     "start_time": "2024-03-01T14:12:53.949070Z"
    }
   },
   "outputs": [],
   "source": [
    "if a < b:\n",
    "    print(\"sim\")\n",
    "else: \n",
    "    print(\"nao\")"
   ]
  },
  {
   "cell_type": "code",
   "execution_count": null,
   "id": "4b815587",
   "metadata": {
    "ExecuteTime": {
     "end_time": "2024-03-01T14:12:55.092635Z",
     "start_time": "2024-03-01T14:12:55.074113Z"
    }
   },
   "outputs": [],
   "source": [
    "if a > b:\n",
    "    print(\"b\")\n",
    "else:\n",
    "    print(\"a\")"
   ]
  },
  {
   "cell_type": "code",
   "execution_count": null,
   "id": "e6480cf4",
   "metadata": {
    "ExecuteTime": {
     "end_time": "2024-03-01T14:13:40.381961Z",
     "start_time": "2024-03-01T14:13:40.366450Z"
    }
   },
   "outputs": [],
   "source": [
    "if a > b:\n",
    "    print(b)\n",
    "elif a > c:\n",
    "    print(c)\n",
    "else:\n",
    "    print(a)"
   ]
  },
  {
   "cell_type": "code",
   "execution_count": null,
   "id": "aa4a6080",
   "metadata": {
    "ExecuteTime": {
     "end_time": "2024-03-01T14:14:42.082141Z",
     "start_time": "2024-03-01T14:14:42.063144Z"
    }
   },
   "outputs": [],
   "source": [
    "True if a > b else False"
   ]
  },
  {
   "cell_type": "code",
   "execution_count": null,
   "id": "d51d11f7",
   "metadata": {
    "ExecuteTime": {
     "end_time": "2024-03-01T14:15:19.647620Z",
     "start_time": "2024-03-01T14:15:19.636619Z"
    }
   },
   "outputs": [],
   "source": [
    "a if a > b else b"
   ]
  },
  {
   "cell_type": "markdown",
   "id": "82dd8caa",
   "metadata": {},
   "source": [
    "### Tópico 2: Estruturas de controle avançadas"
   ]
  },
  {
   "cell_type": "markdown",
   "id": "3c39ced9",
   "metadata": {},
   "source": [
    "#### while com variavel de controle"
   ]
  },
  {
   "cell_type": "code",
   "execution_count": null,
   "id": "2873f76b",
   "metadata": {
    "ExecuteTime": {
     "end_time": "2024-03-01T14:07:01.295270Z",
     "start_time": "2024-03-01T14:07:01.283272Z"
    }
   },
   "outputs": [],
   "source": [
    "numeros = [2,4,6,8,10,12,14,15]\n",
    "c = 0\n",
    "while c < len(numeros):\n",
    "    soma = numeros[c] ** 2          \n",
    "    print(soma)\n",
    "    c+=1 "
   ]
  },
  {
   "cell_type": "markdown",
   "id": "54f5120d",
   "metadata": {},
   "source": [
    "#### nested for"
   ]
  },
  {
   "cell_type": "code",
   "execution_count": null,
   "id": "78dfc914",
   "metadata": {
    "ExecuteTime": {
     "end_time": "2024-03-01T12:02:02.156146Z",
     "start_time": "2024-03-01T12:02:02.138950Z"
    }
   },
   "outputs": [],
   "source": [
    "# Exemplo 3: Nested loops\n",
    "for i in range(3):\n",
    "    for j in range(3):\n",
    "        print(i, j)"
   ]
  },
  {
   "cell_type": "markdown",
   "id": "d802f8ef",
   "metadata": {},
   "source": [
    "#### Exemplo:"
   ]
  },
  {
   "cell_type": "code",
   "execution_count": null,
   "id": "0bf0df94",
   "metadata": {
    "ExecuteTime": {
     "end_time": "2024-03-01T12:02:03.031451Z",
     "start_time": "2024-03-01T12:02:03.017936Z"
    },
    "code_folding": []
   },
   "outputs": [],
   "source": [
    "# Definindo uma matriz 3x3\n",
    "matriz = [\n",
    "    [1, 2, 3],\n",
    "    [4, 5, 6],\n",
    "    [7, 8, 9]\n",
    "]\n",
    "\n",
    "# Iterando sobre os elementos da matriz usando um loop for aninhado\n",
    "for i in range(3):\n",
    "    for j in range(3):\n",
    "        print(f\"Elemento na posição ({i}, {j}): {matriz[i][j]}\")"
   ]
  },
  {
   "cell_type": "markdown",
   "id": "1f68fb59",
   "metadata": {},
   "source": [
    "#### List comprehension"
   ]
  },
  {
   "cell_type": "code",
   "execution_count": null,
   "id": "beebe452",
   "metadata": {
    "ExecuteTime": {
     "end_time": "2024-03-01T12:02:20.014997Z",
     "start_time": "2024-03-01T12:02:20.011014Z"
    },
    "code_folding": []
   },
   "outputs": [],
   "source": [
    "# Exemplo 4: List comprehension\n",
    "numeros = [1, 2, 3, 4, 5]\n",
    "quadrados = [x ** 2 for x in numeros]"
   ]
  },
  {
   "cell_type": "code",
   "execution_count": null,
   "id": "a1df2a06",
   "metadata": {
    "ExecuteTime": {
     "end_time": "2024-03-01T14:11:21.513533Z",
     "start_time": "2024-03-01T14:11:21.496018Z"
    }
   },
   "outputs": [],
   "source": [
    "a = 10\n",
    "while True if a > b else False:\n",
    "    print(a)\n",
    "    a-=1"
   ]
  },
  {
   "cell_type": "markdown",
   "id": "e1819696",
   "metadata": {},
   "source": [
    "### Exercicios"
   ]
  },
  {
   "cell_type": "code",
   "execution_count": null,
   "id": "1207e1d7",
   "metadata": {
    "ExecuteTime": {
     "end_time": "2024-03-01T12:49:23.358418Z",
     "start_time": "2024-03-01T12:49:23.338903Z"
    },
    "code_folding": [
     0
    ]
   },
   "outputs": [],
   "source": [
    "#Escreva um programa que imprima a tabuada de multiplicação de 1 a 10 usando um loop aninhado.\n",
    "for i in range(1, 11):\n",
    "    for j in range(1, 11):\n",
    "        res = i * j\n",
    "        print(res)"
   ]
  },
  {
   "cell_type": "code",
   "execution_count": null,
   "id": "bb1f3bac",
   "metadata": {
    "ExecuteTime": {
     "end_time": "2024-03-01T19:29:45.254099Z",
     "start_time": "2024-03-01T19:29:45.245099Z"
    },
    "code_folding": [
     0
    ]
   },
   "outputs": [],
   "source": [
    "#Escreva um programa em Python que calcule a soma dos números pares de 1 a 100\n",
    "n = 0\n",
    "for i in range(0, 100):\n",
    "    if i % 2 == 0:\n",
    "        n = n + i\n",
    "\n",
    "print(n)"
   ]
  },
  {
   "cell_type": "code",
   "execution_count": null,
   "id": "532e5783",
   "metadata": {},
   "outputs": [],
   "source": []
  },
  {
   "cell_type": "code",
   "execution_count": null,
   "id": "a473a362",
   "metadata": {},
   "outputs": [],
   "source": []
  },
  {
   "cell_type": "markdown",
   "id": "83fbe287",
   "metadata": {},
   "source": [
    "### Tópico 3: Funções avançadas"
   ]
  },
  {
   "cell_type": "code",
   "execution_count": null,
   "id": "f079b5b9",
   "metadata": {
    "ExecuteTime": {
     "end_time": "2024-03-01T11:16:26.110631Z",
     "start_time": "2024-03-01T11:16:26.105643Z"
    }
   },
   "outputs": [],
   "source": [
    "# Exemplo 5: Funções lambda\n",
    "quadrado = lambda x: x ** 2\n",
    "print(quadrado(5))"
   ]
  },
  {
   "cell_type": "code",
   "execution_count": null,
   "id": "e93f2e6c",
   "metadata": {
    "ExecuteTime": {
     "end_time": "2024-03-01T11:16:27.059382Z",
     "start_time": "2024-03-01T11:16:27.051867Z"
    }
   },
   "outputs": [],
   "source": [
    "# Exemplo 6: Função map\n",
    "numeros = [1, 2, 3, 4, 5]\n",
    "dobro = list(map(lambda x: x * 2, numeros))\n",
    "print(dobro)"
   ]
  },
  {
   "cell_type": "code",
   "execution_count": null,
   "id": "ec7dba7e",
   "metadata": {
    "ExecuteTime": {
     "end_time": "2024-03-01T11:16:28.006057Z",
     "start_time": "2024-03-01T11:16:27.996057Z"
    }
   },
   "outputs": [],
   "source": [
    "# Exemplo 7: Função filter\n",
    "pares = list(filter(lambda x: x % 2 == 0, numeros))\n",
    "print(pares)"
   ]
  },
  {
   "cell_type": "code",
   "execution_count": null,
   "id": "f04b8592",
   "metadata": {
    "ExecuteTime": {
     "end_time": "2024-03-01T19:25:29.209540Z",
     "start_time": "2024-03-01T19:25:29.196540Z"
    }
   },
   "outputs": [],
   "source": [
    "# Função auxiliar para determinar se um número é par\n",
    "def is_par(numero):\n",
    "    return numero % 2 == 0\n",
    "\n",
    "# Função auxiliar para calcular o cubo de um número\n",
    "def cubo(numero):\n",
    "    return numero ** 3\n",
    "\n",
    "# Lista de números\n",
    "numeros = [1, 2, 3, 4, 5]"
   ]
  },
  {
   "cell_type": "code",
   "execution_count": null,
   "id": "6fe89f6d",
   "metadata": {},
   "outputs": [],
   "source": [
    "# Exemplo de função com map e lambda\n",
    "quadrado = list(map(lambda x: x ** 2, numeros))\n",
    "print(\"Quadrados:\", quadrado)"
   ]
  },
  {
   "cell_type": "code",
   "execution_count": null,
   "id": "13ed8854",
   "metadata": {},
   "outputs": [],
   "source": [
    "# Exemplo de função com map e função auxiliar\n",
    "cubos = list(map(cubo, numeros))\n",
    "print(\"Cubos:\", cubos)"
   ]
  },
  {
   "cell_type": "code",
   "execution_count": null,
   "id": "8c120093",
   "metadata": {},
   "outputs": [],
   "source": [
    "# Exemplo de função com filter e lambda\n",
    "pares = list(filter(lambda x: x % 2 == 0, numeros))\n",
    "print(\"Números pares:\", pares)"
   ]
  },
  {
   "cell_type": "code",
   "execution_count": null,
   "id": "e4cc8fca",
   "metadata": {},
   "outputs": [],
   "source": [
    "# Exemplo de função com filter e função auxiliar\n",
    "impares = list(filter(lambda x: not is_par(x), numeros))\n",
    "print(\"Números ímpares:\", impares)"
   ]
  },
  {
   "cell_type": "markdown",
   "id": "08c351bf",
   "metadata": {},
   "source": [
    "### Iterando com GENERATE OBJECT COMPRENHENSION"
   ]
  },
  {
   "cell_type": "code",
   "execution_count": null,
   "id": "f6b11ea2",
   "metadata": {
    "ExecuteTime": {
     "end_time": "2024-03-01T19:26:21.177744Z",
     "start_time": "2024-03-01T19:26:21.171744Z"
    }
   },
   "outputs": [],
   "source": [
    "num = (x for x in range(0,21) if x % 2 == 0)"
   ]
  },
  {
   "cell_type": "code",
   "execution_count": null,
   "id": "bc2f26ed",
   "metadata": {
    "ExecuteTime": {
     "end_time": "2024-03-01T19:26:24.024597Z",
     "start_time": "2024-03-01T19:26:24.006596Z"
    }
   },
   "outputs": [],
   "source": [
    "while True:\n",
    "    try:\n",
    "        valor = next(num)\n",
    "        print(valor)\n",
    "    except StopIteration:\n",
    "        print(\"Final\")\n",
    "        break"
   ]
  },
  {
   "cell_type": "code",
   "execution_count": null,
   "id": "6ff03582",
   "metadata": {
    "ExecuteTime": {
     "end_time": "2024-03-01T13:34:33.998389Z",
     "start_time": "2024-03-01T13:34:33.990390Z"
    }
   },
   "outputs": [],
   "source": [
    "# observe que na primeira vez os numeros de 0 a 20 aparecem no output,\n",
    "# contudo, se tentarmos acionar novamente o while ele ira rodar porem ira direto para except"
   ]
  },
  {
   "cell_type": "markdown",
   "id": "32ae12f8",
   "metadata": {},
   "source": [
    "### Environ"
   ]
  },
  {
   "cell_type": "code",
   "execution_count": null,
   "id": "552a686f",
   "metadata": {
    "ExecuteTime": {
     "end_time": "2024-03-01T18:57:56.381450Z",
     "start_time": "2024-03-01T18:57:56.363451Z"
    }
   },
   "outputs": [],
   "source": [
    "os.environ[\"usEr_\"] = \"XXXXXXXX\"\n",
    "os.environ[\"pWd_\"] = \"XXXXXXXX\""
   ]
  },
  {
   "cell_type": "code",
   "execution_count": null,
   "id": "8ee9a3ce",
   "metadata": {
    "ExecuteTime": {
     "end_time": "2024-03-01T18:58:31.839018Z",
     "start_time": "2024-03-01T18:58:31.836010Z"
    }
   },
   "outputs": [],
   "source": [
    "usuario = os.environ[\"USER_\"]\n",
    "senha = os.getenv(\"PWD_\")"
   ]
  },
  {
   "cell_type": "code",
   "execution_count": null,
   "id": "373e6bd9",
   "metadata": {},
   "outputs": [],
   "source": []
  },
  {
   "cell_type": "markdown",
   "id": "9dd411b8",
   "metadata": {},
   "source": [
    "#### Plus Generator Comprehension"
   ]
  },
  {
   "cell_type": "code",
   "execution_count": null,
   "id": "54189527",
   "metadata": {
    "ExecuteTime": {
     "end_time": "2024-03-01T12:14:58.014612Z",
     "start_time": "2024-03-01T12:14:43.250261Z"
    }
   },
   "outputs": [],
   "source": [
    "def csv_reader(file_name):\n",
    "    file = open(file_name)\n",
    "    result = file.read().split(\"\\n\")\n",
    "    return result\n",
    "\n",
    "linhas = []\n",
    "\n",
    "try:\n",
    "\n",
    "        inicio = time.time()\n",
    "\n",
    "        csv_gen = csv_reader(\"31.csv\")\n",
    "        row_count = 0\n",
    "\n",
    "        for linha in csv_gen:\n",
    "            row_count += 1\n",
    "            linhas.append([linha.strip().strip(',')])\n",
    "            \n",
    "        print(f\"Row count is {row_count} \\n linhas {linhas}\")\n",
    "\n",
    "        fim = time.time()\n",
    "        temp_exec = fim - inicio\n",
    "        print(f\"O tempo de execução foi de {temp_exec}\")\n",
    "\n",
    "except Exception as e:\n",
    "    print(f\"Erro: {e}\")"
   ]
  },
  {
   "cell_type": "code",
   "execution_count": null,
   "id": "a3cf696b",
   "metadata": {
    "ExecuteTime": {
     "end_time": "2024-03-01T12:15:32.702904Z",
     "start_time": "2024-03-01T12:15:32.681906Z"
    }
   },
   "outputs": [],
   "source": [
    "len(linhas)"
   ]
  },
  {
   "cell_type": "code",
   "execution_count": null,
   "id": "b737e430",
   "metadata": {
    "ExecuteTime": {
     "end_time": "2024-03-01T12:12:31.090980Z",
     "start_time": "2024-03-01T12:12:17.493037Z"
    }
   },
   "outputs": [],
   "source": [
    "arquivo = '31.csv'\n",
    "linhas = []\n",
    "\n",
    "inicio = time.time()\n",
    "with open(arquivo, 'r') as arq_:\n",
    "    row_count = 0\n",
    "    for linha in arq_:\n",
    "        # remove quebra de linha \\n e divide linhas em campos\n",
    "        linhas.append([linha.strip().strip(',')])\n",
    "        row_count += 1\n",
    "        \n",
    "print(f\"Row count is {row_count}\\n linhas {linhas}\")\n",
    "        \n",
    "fim = time.time()\n",
    "temp_exec = fim - inicio\n",
    "\n",
    "print(f\"O tempo de execução foi de {temp_exec}\")"
   ]
  },
  {
   "cell_type": "code",
   "execution_count": null,
   "id": "bd70d13f",
   "metadata": {
    "ExecuteTime": {
     "end_time": "2024-03-01T19:04:34.259616Z",
     "start_time": "2024-03-01T19:04:34.242616Z"
    }
   },
   "outputs": [],
   "source": [
    "len(linhas)"
   ]
  },
  {
   "cell_type": "code",
   "execution_count": null,
   "id": "b644a2bc",
   "metadata": {
    "ExecuteTime": {
     "end_time": "2024-03-01T12:12:55.763667Z",
     "start_time": "2024-03-01T12:12:42.087476Z"
    }
   },
   "outputs": [],
   "source": [
    "# Generator que usa a declaração yield produz valores sob demanda. \n",
    "def csv_reader_(file_name):\n",
    "    for row in open(file_name, \"r\"):\n",
    "        yield row\n",
    "\n",
    "linhas = []        \n",
    "inicio = time.time()\n",
    "\n",
    "csv_gen = csv_reader_(\"31.csv\")\n",
    "row_count = 0\n",
    "\n",
    "for linha in csv_gen:\n",
    "    row_count += 1\n",
    "    linhas.append([linha.strip().strip(',')])\n",
    "\n",
    "print(f\"Row count is {row_count}\\n linhas {linhas}\")\n",
    "\n",
    "fim = time.time()\n",
    "temp_exec = fim - inicio\n",
    "print(f\"O tempo de execução foi de {temp_exec}\")"
   ]
  },
  {
   "cell_type": "code",
   "execution_count": null,
   "id": "e9376e2e",
   "metadata": {
    "ExecuteTime": {
     "end_time": "2024-03-01T12:13:02.371870Z",
     "start_time": "2024-03-01T12:13:02.360361Z"
    }
   },
   "outputs": [],
   "source": [
    "len(linhas)"
   ]
  },
  {
   "cell_type": "code",
   "execution_count": null,
   "id": "f5899b4e",
   "metadata": {
    "ExecuteTime": {
     "end_time": "2024-03-01T11:20:59.218624Z",
     "start_time": "2024-03-01T11:20:59.210623Z"
    }
   },
   "outputs": [],
   "source": [
    "# Usando uma generator comprehension para gerar uma sequência de números pares\n",
    "gerador_pares = (x for x in range(11) if x % 2 == 0)\n",
    "\n",
    "print(\"Sequência de números pares:\")\n",
    "for num in gerador_pares:\n",
    "    print(num, end=\" \")"
   ]
  },
  {
   "cell_type": "code",
   "execution_count": null,
   "id": "18f7e350",
   "metadata": {
    "ExecuteTime": {
     "end_time": "2024-03-01T12:24:08.420664Z",
     "start_time": "2024-03-01T12:24:08.407150Z"
    }
   },
   "outputs": [],
   "source": [
    "def ler_arquivo_csv(caminho_arquivo):\n",
    "    # Abre o arquivo CSV em modo de leitura\n",
    "    with open(caminho_arquivo, 'r', encoding='utf-8') as arquivo:\n",
    "        # Itera sobre cada linha do arquivo\n",
    "        for linha in arquivo:\n",
    "            # Retorna a linha processada\n",
    "            yield linha.strip().split(',')\n",
    "\n",
    "# Caminho para o arquivo CSV\n",
    "arquivo = '31.csv'\n",
    "\n",
    "# Inicia a leitura do arquivo CSV usando o generator\n",
    "dados = ler_arquivo_csv(arquivo)"
   ]
  },
  {
   "cell_type": "code",
   "execution_count": null,
   "id": "75a8a7f2",
   "metadata": {
    "ExecuteTime": {
     "end_time": "2024-03-01T12:24:40.279615Z",
     "start_time": "2024-03-01T12:24:13.693657Z"
    }
   },
   "outputs": [],
   "source": [
    "# Agora você pode iterar sobre os dados gerados\n",
    "#for linha in dados:\n",
    "    # Faça o processamento necessário com cada linha\n",
    "    #print(linha)"
   ]
  },
  {
   "cell_type": "code",
   "execution_count": null,
   "id": "b48e63f9",
   "metadata": {},
   "outputs": [],
   "source": []
  }
 ],
 "metadata": {
  "kernelspec": {
   "display_name": "base",
   "language": "python",
   "name": "python3"
  },
  "language_info": {
   "codemirror_mode": {
    "name": "ipython",
    "version": 3
   },
   "file_extension": ".py",
   "mimetype": "text/x-python",
   "name": "python",
   "nbconvert_exporter": "python",
   "pygments_lexer": "ipython3",
   "version": "3.9.13"
  },
  "nbTranslate": {
   "displayLangs": [
    "*"
   ],
   "hotkey": "alt-t",
   "langInMainMenu": true,
   "sourceLang": "en",
   "targetLang": "fr",
   "useGoogleTranslate": true
  },
  "toc": {
   "base_numbering": 1,
   "nav_menu": {},
   "number_sections": true,
   "sideBar": false,
   "skip_h1_title": false,
   "title_cell": "Table of Contents",
   "title_sidebar": "Contents",
   "toc_cell": false,
   "toc_position": {},
   "toc_section_display": true,
   "toc_window_display": false
  }
 },
 "nbformat": 4,
 "nbformat_minor": 5
}
